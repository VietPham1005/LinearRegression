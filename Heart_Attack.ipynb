{
  "nbformat": 4,
  "nbformat_minor": 0,
  "metadata": {
    "colab": {
      "provenance": [],
      "toc_visible": true,
      "authorship_tag": "ABX9TyOrYt9yYZrnuRbqUxkn83Ho",
      "include_colab_link": true
    },
    "kernelspec": {
      "name": "python3",
      "display_name": "Python 3"
    },
    "language_info": {
      "name": "python"
    }
  },
  "cells": [
    {
      "cell_type": "markdown",
      "metadata": {
        "id": "view-in-github",
        "colab_type": "text"
      },
      "source": [
        "<a href=\"https://colab.research.google.com/github/VietPham1005/Machine-Learning/blob/main/Heart_Attack.ipynb\" target=\"_parent\"><img src=\"https://colab.research.google.com/assets/colab-badge.svg\" alt=\"Open In Colab\"/></a>"
      ]
    },
    {
      "cell_type": "markdown",
      "source": [
        "#IMPORT DATA"
      ],
      "metadata": {
        "id": "-AO0aFOxPIJa"
      }
    },
    {
      "cell_type": "code",
      "execution_count": 2,
      "metadata": {
        "colab": {
          "base_uri": "https://localhost:8080/",
          "height": 71
        },
        "id": "xbGVC-cRO3MO",
        "outputId": "18eb09c2-9d31-43d1-a111-3fffff504086"
      },
      "outputs": [
        {
          "output_type": "display_data",
          "data": {
            "text/plain": [
              "<IPython.core.display.HTML object>"
            ],
            "text/html": [
              "\n",
              "     <input type=\"file\" id=\"files-1970da79-72e6-41f6-b739-aa74466317ef\" name=\"files[]\" multiple disabled\n",
              "        style=\"border:none\" />\n",
              "     <output id=\"result-1970da79-72e6-41f6-b739-aa74466317ef\">\n",
              "      Upload widget is only available when the cell has been executed in the\n",
              "      current browser session. Please rerun this cell to enable.\n",
              "      </output>\n",
              "      <script>// Copyright 2017 Google LLC\n",
              "//\n",
              "// Licensed under the Apache License, Version 2.0 (the \"License\");\n",
              "// you may not use this file except in compliance with the License.\n",
              "// You may obtain a copy of the License at\n",
              "//\n",
              "//      http://www.apache.org/licenses/LICENSE-2.0\n",
              "//\n",
              "// Unless required by applicable law or agreed to in writing, software\n",
              "// distributed under the License is distributed on an \"AS IS\" BASIS,\n",
              "// WITHOUT WARRANTIES OR CONDITIONS OF ANY KIND, either express or implied.\n",
              "// See the License for the specific language governing permissions and\n",
              "// limitations under the License.\n",
              "\n",
              "/**\n",
              " * @fileoverview Helpers for google.colab Python module.\n",
              " */\n",
              "(function(scope) {\n",
              "function span(text, styleAttributes = {}) {\n",
              "  const element = document.createElement('span');\n",
              "  element.textContent = text;\n",
              "  for (const key of Object.keys(styleAttributes)) {\n",
              "    element.style[key] = styleAttributes[key];\n",
              "  }\n",
              "  return element;\n",
              "}\n",
              "\n",
              "// Max number of bytes which will be uploaded at a time.\n",
              "const MAX_PAYLOAD_SIZE = 100 * 1024;\n",
              "\n",
              "function _uploadFiles(inputId, outputId) {\n",
              "  const steps = uploadFilesStep(inputId, outputId);\n",
              "  const outputElement = document.getElementById(outputId);\n",
              "  // Cache steps on the outputElement to make it available for the next call\n",
              "  // to uploadFilesContinue from Python.\n",
              "  outputElement.steps = steps;\n",
              "\n",
              "  return _uploadFilesContinue(outputId);\n",
              "}\n",
              "\n",
              "// This is roughly an async generator (not supported in the browser yet),\n",
              "// where there are multiple asynchronous steps and the Python side is going\n",
              "// to poll for completion of each step.\n",
              "// This uses a Promise to block the python side on completion of each step,\n",
              "// then passes the result of the previous step as the input to the next step.\n",
              "function _uploadFilesContinue(outputId) {\n",
              "  const outputElement = document.getElementById(outputId);\n",
              "  const steps = outputElement.steps;\n",
              "\n",
              "  const next = steps.next(outputElement.lastPromiseValue);\n",
              "  return Promise.resolve(next.value.promise).then((value) => {\n",
              "    // Cache the last promise value to make it available to the next\n",
              "    // step of the generator.\n",
              "    outputElement.lastPromiseValue = value;\n",
              "    return next.value.response;\n",
              "  });\n",
              "}\n",
              "\n",
              "/**\n",
              " * Generator function which is called between each async step of the upload\n",
              " * process.\n",
              " * @param {string} inputId Element ID of the input file picker element.\n",
              " * @param {string} outputId Element ID of the output display.\n",
              " * @return {!Iterable<!Object>} Iterable of next steps.\n",
              " */\n",
              "function* uploadFilesStep(inputId, outputId) {\n",
              "  const inputElement = document.getElementById(inputId);\n",
              "  inputElement.disabled = false;\n",
              "\n",
              "  const outputElement = document.getElementById(outputId);\n",
              "  outputElement.innerHTML = '';\n",
              "\n",
              "  const pickedPromise = new Promise((resolve) => {\n",
              "    inputElement.addEventListener('change', (e) => {\n",
              "      resolve(e.target.files);\n",
              "    });\n",
              "  });\n",
              "\n",
              "  const cancel = document.createElement('button');\n",
              "  inputElement.parentElement.appendChild(cancel);\n",
              "  cancel.textContent = 'Cancel upload';\n",
              "  const cancelPromise = new Promise((resolve) => {\n",
              "    cancel.onclick = () => {\n",
              "      resolve(null);\n",
              "    };\n",
              "  });\n",
              "\n",
              "  // Wait for the user to pick the files.\n",
              "  const files = yield {\n",
              "    promise: Promise.race([pickedPromise, cancelPromise]),\n",
              "    response: {\n",
              "      action: 'starting',\n",
              "    }\n",
              "  };\n",
              "\n",
              "  cancel.remove();\n",
              "\n",
              "  // Disable the input element since further picks are not allowed.\n",
              "  inputElement.disabled = true;\n",
              "\n",
              "  if (!files) {\n",
              "    return {\n",
              "      response: {\n",
              "        action: 'complete',\n",
              "      }\n",
              "    };\n",
              "  }\n",
              "\n",
              "  for (const file of files) {\n",
              "    const li = document.createElement('li');\n",
              "    li.append(span(file.name, {fontWeight: 'bold'}));\n",
              "    li.append(span(\n",
              "        `(${file.type || 'n/a'}) - ${file.size} bytes, ` +\n",
              "        `last modified: ${\n",
              "            file.lastModifiedDate ? file.lastModifiedDate.toLocaleDateString() :\n",
              "                                    'n/a'} - `));\n",
              "    const percent = span('0% done');\n",
              "    li.appendChild(percent);\n",
              "\n",
              "    outputElement.appendChild(li);\n",
              "\n",
              "    const fileDataPromise = new Promise((resolve) => {\n",
              "      const reader = new FileReader();\n",
              "      reader.onload = (e) => {\n",
              "        resolve(e.target.result);\n",
              "      };\n",
              "      reader.readAsArrayBuffer(file);\n",
              "    });\n",
              "    // Wait for the data to be ready.\n",
              "    let fileData = yield {\n",
              "      promise: fileDataPromise,\n",
              "      response: {\n",
              "        action: 'continue',\n",
              "      }\n",
              "    };\n",
              "\n",
              "    // Use a chunked sending to avoid message size limits. See b/62115660.\n",
              "    let position = 0;\n",
              "    do {\n",
              "      const length = Math.min(fileData.byteLength - position, MAX_PAYLOAD_SIZE);\n",
              "      const chunk = new Uint8Array(fileData, position, length);\n",
              "      position += length;\n",
              "\n",
              "      const base64 = btoa(String.fromCharCode.apply(null, chunk));\n",
              "      yield {\n",
              "        response: {\n",
              "          action: 'append',\n",
              "          file: file.name,\n",
              "          data: base64,\n",
              "        },\n",
              "      };\n",
              "\n",
              "      let percentDone = fileData.byteLength === 0 ?\n",
              "          100 :\n",
              "          Math.round((position / fileData.byteLength) * 100);\n",
              "      percent.textContent = `${percentDone}% done`;\n",
              "\n",
              "    } while (position < fileData.byteLength);\n",
              "  }\n",
              "\n",
              "  // All done.\n",
              "  yield {\n",
              "    response: {\n",
              "      action: 'complete',\n",
              "    }\n",
              "  };\n",
              "}\n",
              "\n",
              "scope.google = scope.google || {};\n",
              "scope.google.colab = scope.google.colab || {};\n",
              "scope.google.colab._files = {\n",
              "  _uploadFiles,\n",
              "  _uploadFilesContinue,\n",
              "};\n",
              "})(self);\n",
              "</script> "
            ]
          },
          "metadata": {}
        },
        {
          "output_type": "stream",
          "name": "stdout",
          "text": [
            "Saving heart.csv to heart.csv\n"
          ]
        }
      ],
      "source": [
        "from google.colab import files\n",
        "uploaded = files.upload()"
      ]
    },
    {
      "cell_type": "markdown",
      "source": [
        "#IMPORT THƯ VIỆN"
      ],
      "metadata": {
        "id": "RT1U68w8RBYD"
      }
    },
    {
      "cell_type": "code",
      "source": [
        "# Utility\n",
        "import pandas as pd\n",
        "import numpy as np\n",
        "from sklearn.model_selection import train_test_split\n",
        "from sklearn.metrics import roc_auc_score,accuracy_score\n",
        "from sklearn.preprocessing import StandardScaler\n",
        "\n",
        "# machine learning\n",
        "from sklearn.ensemble import RandomForestClassifier\n",
        "from sklearn.linear_model import LogisticRegression, SGDClassifier"
      ],
      "metadata": {
        "id": "zMTAm-nYPO1R"
      },
      "execution_count": 3,
      "outputs": []
    },
    {
      "cell_type": "code",
      "source": [
        "df = pd.read_csv(\"heart.csv\")"
      ],
      "metadata": {
        "id": "klaNgg1PPZl9"
      },
      "execution_count": 4,
      "outputs": []
    },
    {
      "cell_type": "code",
      "source": [
        "#seed\n",
        "seed = 40"
      ],
      "metadata": {
        "id": "YGNYXi_oPcrj"
      },
      "execution_count": 5,
      "outputs": []
    },
    {
      "cell_type": "markdown",
      "source": [
        "#Averaging - (RandomForestClassifier + LogisticRegression + SGDClassifier)"
      ],
      "metadata": {
        "id": "bTK8wmtWRIWW"
      }
    },
    {
      "cell_type": "code",
      "source": [
        "#target\n",
        "target = df[\"output\"]\n",
        "\n",
        "# getting scaled train data\n",
        "train = df.drop(\"output\", axis=1)\n",
        "scaled_train = StandardScaler().fit_transform(train)\n",
        "\n",
        "# Splitting the data into training and validation\n",
        "X_train, X_test, y_train, y_test = train_test_split(\n",
        "    train, target, test_size=0.20, random_state=seed\n",
        ")\n",
        "\n",
        "# building the all models\n",
        "model_1 = RandomForestClassifier(random_state=seed)\n",
        "model_2 = LogisticRegression(random_state=seed, max_iter=1000)\n",
        "model_3 = SGDClassifier(random_state=seed)\n",
        "\n",
        "# training\n",
        "model_1.fit(X_train, y_train)\n",
        "model_2.fit(X_train, y_train)\n",
        "model_3.fit(X_train, y_train)\n",
        "\n",
        "# predicting\n",
        "pred_1 = model_1.predict(X_test)\n",
        "pred_2 = model_2.predict(X_test)\n",
        "pred_3 = model_3.predict(X_test)\n",
        "\n",
        "# averaging\n",
        "pred_final = np.round((pred_1 + pred_2 + pred_3) / 3)\n",
        "\n",
        "# evalution\n",
        "accuracy = round(accuracy_score(y_test, pred_final) * 100, 3)\n",
        "auc = round(roc_auc_score(y_test, pred_final), 3)\n",
        "\n",
        "print(f\" Accuracy: {accuracy}%\")\n",
        "print(f\" AUC score: {auc}\")"
      ],
      "metadata": {
        "colab": {
          "base_uri": "https://localhost:8080/"
        },
        "id": "4Z4TTABFPk-o",
        "outputId": "a3f3f051-a8c2-4f51-ac2c-0ae65a55a526"
      },
      "execution_count": 6,
      "outputs": [
        {
          "output_type": "stream",
          "name": "stdout",
          "text": [
            " Accuracy: 85.246%\n",
            " AUC score: 0.847\n"
          ]
        }
      ]
    },
    {
      "cell_type": "markdown",
      "source": [
        "#Weighted Average\n"
      ],
      "metadata": {
        "id": "_eymfK85Rnut"
      }
    },
    {
      "cell_type": "code",
      "source": [
        "pred_final = np.round(0.3*pred_1 + 0.6*pred_2 + 0.1*pred_3)\n",
        "\n",
        "# evalution\n",
        "accuracy = round(accuracy_score(y_test, pred_final) * 100, 3)\n",
        "auc = round(roc_auc_score(y_test, pred_final), 3)\n",
        "\n",
        "print(f\" Accuracy: {accuracy}%\")\n",
        "print(f\" AUC score: {auc}\")"
      ],
      "metadata": {
        "colab": {
          "base_uri": "https://localhost:8080/"
        },
        "id": "DjDFjEc5P5a9",
        "outputId": "2c59d4a3-019c-4f85-e6c1-d995af7a8dc8"
      },
      "execution_count": 7,
      "outputs": [
        {
          "output_type": "stream",
          "name": "stdout",
          "text": [
            " Accuracy: 90.164%\n",
            " AUC score: 0.89\n"
          ]
        }
      ]
    },
    {
      "cell_type": "markdown",
      "source": [
        "#Max Voting"
      ],
      "metadata": {
        "id": "UtQhh6rdRw2w"
      }
    },
    {
      "cell_type": "code",
      "source": [
        "from sklearn.ensemble import VotingClassifier\n",
        "from sklearn.neighbors import KNeighborsClassifier\n",
        "\n",
        "# building the model\n",
        "model_4 = KNeighborsClassifier()\n",
        "\n",
        "# voting classifier\n",
        "final_model = VotingClassifier(\n",
        "    estimators=[(\"rf\", model_1), (\"lr\", model_2), (\"knn\", model_4)],\n",
        "    voting=\"hard\",\n",
        ")\n",
        "\n",
        "# training\n",
        "final_model.fit(X_train, y_train)\n",
        "\n",
        "# prediction\n",
        "prediction = final_model.predict(X_test)\n",
        "\n",
        "# evaluation\n",
        "accuracy = round(accuracy_score(y_test, prediction) * 100, 3)\n",
        "auc = round(roc_auc_score(y_test, prediction), 3)\n",
        "\n",
        "print(f\" Accuracy: {accuracy}%\")\n",
        "print(f\" AUC score: {auc}\")"
      ],
      "metadata": {
        "colab": {
          "base_uri": "https://localhost:8080/"
        },
        "id": "iAv8ty2ZP85H",
        "outputId": "61ea1f4b-3375-4a51-d18c-b54ddb722436"
      },
      "execution_count": 8,
      "outputs": [
        {
          "output_type": "stream",
          "name": "stdout",
          "text": [
            " Accuracy: 90.164%\n",
            " AUC score: 0.89\n"
          ]
        }
      ]
    },
    {
      "cell_type": "markdown",
      "source": [
        "#Stacking"
      ],
      "metadata": {
        "id": "urL5lVYqR31U"
      }
    },
    {
      "cell_type": "code",
      "source": [
        "from sklearn.ensemble import StackingClassifier\n",
        "from sklearn.ensemble import GradientBoostingClassifier\n",
        "from sklearn.ensemble import AdaBoostClassifier\n",
        "\n",
        "# building the model\n",
        "model_5 = AdaBoostClassifier(random_state=seed)\n",
        "\n",
        "estimators = [(\"rf\", model_1), (\"lr\", model_2), (\"ada\", model_5)]\n",
        "\n",
        "# building the model\n",
        "final_estimator = GradientBoostingClassifier(random_state=seed)\n",
        "\n",
        "# Stacking Classifier\n",
        "clf = StackingClassifier(estimators=estimators, final_estimator=final_estimator)\n",
        "\n",
        "# training\n",
        "clf.fit(X_train, y_train)\n",
        "\n",
        "# prediction\n",
        "prediction = clf.predict(X_test)\n",
        "\n",
        "# evaluation\n",
        "accuracy = round(accuracy_score(y_test, prediction) * 100, 3)\n",
        "auc = round(roc_auc_score(y_test, prediction), 3)\n",
        "\n",
        "print(f\" Accuracy: {accuracy}%\")\n",
        "print(f\" AUC score: {auc}\")"
      ],
      "metadata": {
        "colab": {
          "base_uri": "https://localhost:8080/"
        },
        "id": "lvwMdDQvQBpb",
        "outputId": "719a646d-ef04-4426-b50c-da67f7c29df6"
      },
      "execution_count": 13,
      "outputs": [
        {
          "output_type": "stream",
          "name": "stderr",
          "text": [
            "/usr/local/lib/python3.10/dist-packages/sklearn/linear_model/_logistic.py:458: ConvergenceWarning: lbfgs failed to converge (status=1):\n",
            "STOP: TOTAL NO. of ITERATIONS REACHED LIMIT.\n",
            "\n",
            "Increase the number of iterations (max_iter) or scale the data as shown in:\n",
            "    https://scikit-learn.org/stable/modules/preprocessing.html\n",
            "Please also refer to the documentation for alternative solver options:\n",
            "    https://scikit-learn.org/stable/modules/linear_model.html#logistic-regression\n",
            "  n_iter_i = _check_optimize_result(\n"
          ]
        },
        {
          "output_type": "stream",
          "name": "stdout",
          "text": [
            " Accuracy: 85.246%\n",
            " AUC score: 0.852\n"
          ]
        }
      ]
    },
    {
      "cell_type": "markdown",
      "source": [
        "#Bagging"
      ],
      "metadata": {
        "id": "eJ2sQuIVR8TQ"
      }
    },
    {
      "cell_type": "code",
      "source": [
        "from sklearn.ensemble import BaggingClassifier\n",
        "\n",
        "# bagging\n",
        "clf = BaggingClassifier(\n",
        "    LogisticRegression(random_state=seed, max_iter=2000),\n",
        "    n_estimators=20,\n",
        "    random_state=seed,\n",
        ")\n",
        "\n",
        "# training\n",
        "clf.fit(X_train, y_train)\n",
        "\n",
        "# prediction\n",
        "prediction = clf.predict(X_test)\n",
        "\n",
        "# evaluation\n",
        "accuracy = round(accuracy_score(y_test, prediction) * 100, 3)\n",
        "auc = round(roc_auc_score(y_test, prediction), 3)\n",
        "\n",
        "print(f\" Accuracy: {accuracy}%\")\n",
        "print(f\" AUC score: {auc}\")"
      ],
      "metadata": {
        "colab": {
          "base_uri": "https://localhost:8080/"
        },
        "id": "Ki9XAKkVQGH8",
        "outputId": "24815968-8536-4e7b-eeaa-9377f1aa2a6a"
      },
      "execution_count": 10,
      "outputs": [
        {
          "output_type": "stream",
          "name": "stdout",
          "text": [
            " Accuracy: 90.164%\n",
            " AUC score: 0.89\n"
          ]
        }
      ]
    },
    {
      "cell_type": "markdown",
      "source": [
        "#Boosting"
      ],
      "metadata": {
        "id": "ygOnGgCRSBfq"
      }
    },
    {
      "cell_type": "code",
      "source": [
        "# boosting\n",
        "clf = AdaBoostClassifier(random_state=seed)\n",
        "\n",
        "# training\n",
        "clf.fit(X_train, y_train)\n",
        "\n",
        "# prediction\n",
        "prediction = clf.predict(X_test)\n",
        "\n",
        "# evaluation\n",
        "accuracy = round(accuracy_score(y_test, prediction) * 100, 3)\n",
        "auc = round(roc_auc_score(y_test, prediction), 3)\n",
        "\n",
        "print(f\" Accuracy: {accuracy}%\")\n",
        "print(f\" AUC score: {auc}\")"
      ],
      "metadata": {
        "colab": {
          "base_uri": "https://localhost:8080/"
        },
        "id": "LygpgaDJQWO2",
        "outputId": "bd7447c7-846c-41a3-86d2-efca19fb1e23"
      },
      "execution_count": 11,
      "outputs": [
        {
          "output_type": "stream",
          "name": "stdout",
          "text": [
            " Accuracy: 80.328%\n",
            " AUC score: 0.804\n"
          ]
        }
      ]
    }
  ]
}